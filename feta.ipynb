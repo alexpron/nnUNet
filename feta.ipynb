{
  "nbformat": 4,
  "nbformat_minor": 0,
  "metadata": {
    "colab": {
      "name": "feta.ipynb",
      "provenance": [],
      "authorship_tag": "ABX9TyOPCpxdbwvKeQBLdzXQtV3Q",
      "include_colab_link": true
    },
    "kernelspec": {
      "name": "python3",
      "display_name": "Python 3"
    },
    "accelerator": "GPU"
  },
  "cells": [
    {
      "cell_type": "markdown",
      "metadata": {
        "id": "view-in-github",
        "colab_type": "text"
      },
      "source": [
        "<a href=\"https://colab.research.google.com/github/alexpron/nnUNet/blob/master/feta.ipynb\" target=\"_parent\"><img src=\"https://colab.research.google.com/assets/colab-badge.svg\" alt=\"Open In Colab\"/></a>"
      ]
    },
    {
      "cell_type": "code",
      "metadata": {
        "colab": {
          "base_uri": "https://localhost:8080/",
          "height": 1000
        },
        "id": "JHgLGFldTKDl",
        "outputId": "61fc0dea-c228-42f8-f7cc-340674dc1f57"
      },
      "source": [
        "!pip install nnunet"
      ],
      "execution_count": 1,
      "outputs": [
        {
          "output_type": "stream",
          "text": [
            "Collecting nnunet\n",
            "\u001b[?25l  Downloading https://files.pythonhosted.org/packages/07/07/eed143cb7873f6d22e5b85a97cb58c3ca3ad627139d62aa604022340a2e7/nnunet-1.6.5-py3-none-any.whl (433kB)\n",
            "\r\u001b[K     |▊                               | 10kB 22.3MB/s eta 0:00:01\r\u001b[K     |█▌                              | 20kB 18.5MB/s eta 0:00:01\r\u001b[K     |██▎                             | 30kB 16.9MB/s eta 0:00:01\r\u001b[K     |███                             | 40kB 15.5MB/s eta 0:00:01\r\u001b[K     |███▊                            | 51kB 12.9MB/s eta 0:00:01\r\u001b[K     |████▌                           | 61kB 12.8MB/s eta 0:00:01\r\u001b[K     |█████▎                          | 71kB 12.9MB/s eta 0:00:01\r\u001b[K     |██████                          | 81kB 12.8MB/s eta 0:00:01\r\u001b[K     |██████▉                         | 92kB 14.0MB/s eta 0:00:01\r\u001b[K     |███████▌                        | 102kB 14.0MB/s eta 0:00:01\r\u001b[K     |████████▎                       | 112kB 14.0MB/s eta 0:00:01\r\u001b[K     |█████████                       | 122kB 14.0MB/s eta 0:00:01\r\u001b[K     |█████████▉                      | 133kB 14.0MB/s eta 0:00:01\r\u001b[K     |██████████▋                     | 143kB 14.0MB/s eta 0:00:01\r\u001b[K     |███████████▎                    | 153kB 14.0MB/s eta 0:00:01\r\u001b[K     |████████████                    | 163kB 14.0MB/s eta 0:00:01\r\u001b[K     |████████████▉                   | 174kB 14.0MB/s eta 0:00:01\r\u001b[K     |█████████████▋                  | 184kB 14.0MB/s eta 0:00:01\r\u001b[K     |██████████████▍                 | 194kB 14.0MB/s eta 0:00:01\r\u001b[K     |███████████████                 | 204kB 14.0MB/s eta 0:00:01\r\u001b[K     |███████████████▉                | 215kB 14.0MB/s eta 0:00:01\r\u001b[K     |████████████████▋               | 225kB 14.0MB/s eta 0:00:01\r\u001b[K     |█████████████████▍              | 235kB 14.0MB/s eta 0:00:01\r\u001b[K     |██████████████████▏             | 245kB 14.0MB/s eta 0:00:01\r\u001b[K     |██████████████████▉             | 256kB 14.0MB/s eta 0:00:01\r\u001b[K     |███████████████████▋            | 266kB 14.0MB/s eta 0:00:01\r\u001b[K     |████████████████████▍           | 276kB 14.0MB/s eta 0:00:01\r\u001b[K     |█████████████████████▏          | 286kB 14.0MB/s eta 0:00:01\r\u001b[K     |██████████████████████          | 296kB 14.0MB/s eta 0:00:01\r\u001b[K     |██████████████████████▋         | 307kB 14.0MB/s eta 0:00:01\r\u001b[K     |███████████████████████▍        | 317kB 14.0MB/s eta 0:00:01\r\u001b[K     |████████████████████████▏       | 327kB 14.0MB/s eta 0:00:01\r\u001b[K     |█████████████████████████       | 337kB 14.0MB/s eta 0:00:01\r\u001b[K     |█████████████████████████▊      | 348kB 14.0MB/s eta 0:00:01\r\u001b[K     |██████████████████████████▍     | 358kB 14.0MB/s eta 0:00:01\r\u001b[K     |███████████████████████████▏    | 368kB 14.0MB/s eta 0:00:01\r\u001b[K     |████████████████████████████    | 378kB 14.0MB/s eta 0:00:01\r\u001b[K     |████████████████████████████▊   | 389kB 14.0MB/s eta 0:00:01\r\u001b[K     |█████████████████████████████▌  | 399kB 14.0MB/s eta 0:00:01\r\u001b[K     |██████████████████████████████▏ | 409kB 14.0MB/s eta 0:00:01\r\u001b[K     |███████████████████████████████ | 419kB 14.0MB/s eta 0:00:01\r\u001b[K     |███████████████████████████████▊| 430kB 14.0MB/s eta 0:00:01\r\u001b[K     |████████████████████████████████| 440kB 14.0MB/s \n",
            "\u001b[?25hRequirement already satisfied: tifffile in /usr/local/lib/python3.6/dist-packages (from nnunet) (2020.9.3)\n",
            "Collecting dicom2nifti\n",
            "  Downloading https://files.pythonhosted.org/packages/9b/be/7611901c0ef7f0b60024bcbe3af0f1e0baefe0d4b48fe5f53bd6b621ae22/dicom2nifti-2.2.12.tar.gz\n",
            "Requirement already satisfied: torch>=1.6.0a in /usr/local/lib/python3.6/dist-packages (from nnunet) (1.7.0+cu101)\n",
            "Collecting batchgenerators>=0.21\n",
            "\u001b[?25l  Downloading https://files.pythonhosted.org/packages/2a/00/67e2c25aeac3839ab59950dd41bf090f48fb0cf2eda3a50ac4474d97492c/batchgenerators-0.21-py3-none-any.whl (74kB)\n",
            "\u001b[K     |████████████████████████████████| 81kB 12.7MB/s \n",
            "\u001b[?25hRequirement already satisfied: numpy in /usr/local/lib/python3.6/dist-packages (from nnunet) (1.18.5)\n",
            "Requirement already satisfied: nibabel in /usr/local/lib/python3.6/dist-packages (from nnunet) (3.0.2)\n",
            "Requirement already satisfied: tqdm in /usr/local/lib/python3.6/dist-packages (from nnunet) (4.41.1)\n",
            "Requirement already satisfied: sklearn in /usr/local/lib/python3.6/dist-packages (from nnunet) (0.0)\n",
            "Collecting SimpleITK\n",
            "\u001b[?25l  Downloading https://files.pythonhosted.org/packages/cc/85/6a7ce61f07cdaca722dd64f028b5678fb0a9e1bf66f534c2f8dd2eb78490/SimpleITK-2.0.2-cp36-cp36m-manylinux2010_x86_64.whl (47.4MB)\n",
            "\u001b[K     |████████████████████████████████| 47.4MB 67kB/s \n",
            "\u001b[?25hCollecting medpy\n",
            "\u001b[?25l  Downloading https://files.pythonhosted.org/packages/3b/70/c1fd5dd60242eee81774696ea7ba4caafac2bad8f028bba94b1af83777d7/MedPy-0.4.0.tar.gz (151kB)\n",
            "\u001b[K     |████████████████████████████████| 153kB 56.7MB/s \n",
            "\u001b[?25hRequirement already satisfied: pandas in /usr/local/lib/python3.6/dist-packages (from nnunet) (1.1.5)\n",
            "Requirement already satisfied: scipy in /usr/local/lib/python3.6/dist-packages (from nnunet) (1.4.1)\n",
            "Requirement already satisfied: scikit-image>=0.14 in /usr/local/lib/python3.6/dist-packages (from nnunet) (0.16.2)\n",
            "Collecting pydicom>=1.3.0\n",
            "\u001b[?25l  Downloading https://files.pythonhosted.org/packages/f4/15/df16546bc59bfca390cf072d473fb2c8acd4231636f64356593a63137e55/pydicom-2.1.2-py3-none-any.whl (1.9MB)\n",
            "\u001b[K     |████████████████████████████████| 1.9MB 45.3MB/s \n",
            "\u001b[?25hRequirement already satisfied: typing-extensions in /usr/local/lib/python3.6/dist-packages (from torch>=1.6.0a->nnunet) (3.7.4.3)\n",
            "Requirement already satisfied: future in /usr/local/lib/python3.6/dist-packages (from torch>=1.6.0a->nnunet) (0.16.0)\n",
            "Requirement already satisfied: dataclasses in /usr/local/lib/python3.6/dist-packages (from torch>=1.6.0a->nnunet) (0.8)\n",
            "Collecting threadpoolctl\n",
            "  Downloading https://files.pythonhosted.org/packages/f7/12/ec3f2e203afa394a149911729357aa48affc59c20e2c1c8297a60f33f133/threadpoolctl-2.1.0-py3-none-any.whl\n",
            "Collecting pillow>=7.1.2\n",
            "\u001b[?25l  Downloading https://files.pythonhosted.org/packages/5f/19/d4c25111d36163698396f93c363114cf1cddbacb24744f6612f25b6aa3d0/Pillow-8.0.1-cp36-cp36m-manylinux1_x86_64.whl (2.2MB)\n",
            "\u001b[K     |████████████████████████████████| 2.2MB 43.8MB/s \n",
            "\u001b[?25hRequirement already satisfied: scikit-learn in /usr/local/lib/python3.6/dist-packages (from batchgenerators>=0.21->nnunet) (0.22.2.post1)\n",
            "Collecting unittest2\n",
            "\u001b[?25l  Downloading https://files.pythonhosted.org/packages/72/20/7f0f433060a962200b7272b8c12ba90ef5b903e218174301d0abfd523813/unittest2-1.1.0-py2.py3-none-any.whl (96kB)\n",
            "\u001b[K     |████████████████████████████████| 102kB 15.4MB/s \n",
            "\u001b[?25hRequirement already satisfied: python-dateutil>=2.7.3 in /usr/local/lib/python3.6/dist-packages (from pandas->nnunet) (2.8.1)\n",
            "Requirement already satisfied: pytz>=2017.2 in /usr/local/lib/python3.6/dist-packages (from pandas->nnunet) (2018.9)\n",
            "Requirement already satisfied: matplotlib!=3.0.0,>=2.0.0 in /usr/local/lib/python3.6/dist-packages (from scikit-image>=0.14->nnunet) (3.2.2)\n",
            "Requirement already satisfied: networkx>=2.0 in /usr/local/lib/python3.6/dist-packages (from scikit-image>=0.14->nnunet) (2.5)\n",
            "Requirement already satisfied: PyWavelets>=0.4.0 in /usr/local/lib/python3.6/dist-packages (from scikit-image>=0.14->nnunet) (1.1.1)\n",
            "Requirement already satisfied: imageio>=2.3.0 in /usr/local/lib/python3.6/dist-packages (from scikit-image>=0.14->nnunet) (2.4.1)\n",
            "Requirement already satisfied: joblib>=0.11 in /usr/local/lib/python3.6/dist-packages (from scikit-learn->batchgenerators>=0.21->nnunet) (0.17.0)\n",
            "Collecting traceback2\n",
            "  Downloading https://files.pythonhosted.org/packages/17/0a/6ac05a3723017a967193456a2efa0aa9ac4b51456891af1e2353bb9de21e/traceback2-1.4.0-py2.py3-none-any.whl\n",
            "Collecting argparse\n",
            "  Downloading https://files.pythonhosted.org/packages/f2/94/3af39d34be01a24a6e65433d19e107099374224905f1e0cc6bbe1fd22a2f/argparse-1.4.0-py2.py3-none-any.whl\n",
            "Requirement already satisfied: six>=1.4 in /usr/local/lib/python3.6/dist-packages (from unittest2->batchgenerators>=0.21->nnunet) (1.15.0)\n",
            "Requirement already satisfied: pyparsing!=2.0.4,!=2.1.2,!=2.1.6,>=2.0.1 in /usr/local/lib/python3.6/dist-packages (from matplotlib!=3.0.0,>=2.0.0->scikit-image>=0.14->nnunet) (2.4.7)\n",
            "Requirement already satisfied: kiwisolver>=1.0.1 in /usr/local/lib/python3.6/dist-packages (from matplotlib!=3.0.0,>=2.0.0->scikit-image>=0.14->nnunet) (1.3.1)\n",
            "Requirement already satisfied: cycler>=0.10 in /usr/local/lib/python3.6/dist-packages (from matplotlib!=3.0.0,>=2.0.0->scikit-image>=0.14->nnunet) (0.10.0)\n",
            "Requirement already satisfied: decorator>=4.3.0 in /usr/local/lib/python3.6/dist-packages (from networkx>=2.0->scikit-image>=0.14->nnunet) (4.4.2)\n",
            "Collecting linecache2\n",
            "  Downloading https://files.pythonhosted.org/packages/c7/a3/c5da2a44c85bfbb6eebcfc1dde24933f8704441b98fdde6528f4831757a6/linecache2-1.0.0-py2.py3-none-any.whl\n",
            "Building wheels for collected packages: dicom2nifti, medpy\n",
            "  Building wheel for dicom2nifti (setup.py) ... \u001b[?25l\u001b[?25hdone\n",
            "  Created wheel for dicom2nifti: filename=dicom2nifti-2.2.12-cp36-none-any.whl size=42620 sha256=c31bad97715bdce5416413f4e481697d1bef2bfb7e81aee63b65db4da615e61a\n",
            "  Stored in directory: /root/.cache/pip/wheels/50/d5/44/984e7449cae4fcacfa4ee0481274a052d52fbcd66e03e377f4\n",
            "  Building wheel for medpy (setup.py) ... \u001b[?25l\u001b[?25hdone\n",
            "  Created wheel for medpy: filename=MedPy-0.4.0-cp36-cp36m-linux_x86_64.whl size=753414 sha256=e25d659ced646d42571b2df710e37116d110573bde0ef03ee80cab7a1df2822c\n",
            "  Stored in directory: /root/.cache/pip/wheels/8c/c9/9c/2c6281c7a72b9fb1570862a4f028af7ce38405008354fbf870\n",
            "Successfully built dicom2nifti medpy\n",
            "\u001b[31mERROR: albumentations 0.1.12 has requirement imgaug<0.2.7,>=0.2.5, but you'll have imgaug 0.2.9 which is incompatible.\u001b[0m\n",
            "Installing collected packages: pydicom, dicom2nifti, threadpoolctl, pillow, linecache2, traceback2, argparse, unittest2, batchgenerators, SimpleITK, medpy, nnunet\n",
            "  Found existing installation: Pillow 7.0.0\n",
            "    Uninstalling Pillow-7.0.0:\n",
            "      Successfully uninstalled Pillow-7.0.0\n",
            "Successfully installed SimpleITK-2.0.2 argparse-1.4.0 batchgenerators-0.21 dicom2nifti-2.2.12 linecache2-1.0.0 medpy-0.4.0 nnunet-1.6.5 pillow-8.0.1 pydicom-2.1.2 threadpoolctl-2.1.0 traceback2-1.4.0 unittest2-1.1.0\n"
          ],
          "name": "stdout"
        },
        {
          "output_type": "display_data",
          "data": {
            "application/vnd.colab-display-data+json": {
              "pip_warning": {
                "packages": [
                  "PIL",
                  "argparse"
                ]
              }
            }
          },
          "metadata": {
            "tags": []
          }
        }
      ]
    },
    {
      "cell_type": "code",
      "metadata": {
        "colab": {
          "base_uri": "https://localhost:8080/"
        },
        "id": "4KEo8CmwVE-5",
        "outputId": "455240a3-6ff4-466e-bbb0-3469961a1872"
      },
      "source": [
        "import nnunet"
      ],
      "execution_count": 3,
      "outputs": [
        {
          "output_type": "stream",
          "text": [
            "1.7.0+cu101\n"
          ],
          "name": "stdout"
        }
      ]
    },
    {
      "cell_type": "code",
      "metadata": {
        "id": "7BQ8LUrCVhCC"
      },
      "source": [
        ""
      ],
      "execution_count": null,
      "outputs": []
    }
  ]
}